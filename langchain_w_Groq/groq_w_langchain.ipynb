{
 "cells": [
  {
   "cell_type": "code",
   "execution_count": 1,
   "id": "71902525-9e4f-4fca-93d2-e831cf7a73a3",
   "metadata": {},
   "outputs": [],
   "source": [
    "import os\n",
    "from dotenv import load_dotenv\n",
    "# Load environment variables from .env file\n",
    "load_dotenv()"
   ]
  },
  {
   "cell_type": "markdown",
   "id": "cd197b4d-2804-4c38-9e28-07d77101f56c",
   "metadata": {},
   "source": [
    "## Langchain with groq"
   ]
  },
  {
   "cell_type": "code",
   "execution_count": 2,
   "id": "1d9b9c09-f638-45b8-9eb3-078410020508",
   "metadata": {},
   "outputs": [
    {
     "data": {
      "text/plain": [
       "AIMessage(content='You can utilize a Large Language Model (LLM) by fine-tuning it on a specific task or dataset, or using it as a feature extractor or generator to augment your own AI applications.', response_metadata={'token_usage': {'completion_tokens': 40, 'prompt_tokens': 37, 'total_tokens': 77, 'completion_time': 0.119430614, 'prompt_time': 0.00766649, 'queue_time': None, 'total_time': 0.12709710400000002}, 'model_name': 'llama3-70b-8192', 'system_fingerprint': 'fp_7ab5f7e105', 'finish_reason': 'stop', 'logprobs': None}, id='run-e094e7fe-f120-4e86-982d-c5e09be0f41e-0', usage_metadata={'input_tokens': 37, 'output_tokens': 40, 'total_tokens': 77})"
      ]
     },
     "execution_count": 2,
     "metadata": {},
     "output_type": "execute_result"
    }
   ],
   "source": [
    "from langchain_core.prompts import ChatPromptTemplate\n",
    "from langchain_groq import ChatGroq\n",
    "\n",
    "\n",
    "\n",
    "chat = ChatGroq(\n",
    "    model=\"llama3-70b-8192\", temperature=0.5\n",
    ")\n",
    "\n",
    "system = \"\"\"\n",
    "You are a helpful assistant that always provides a single sentence as answer.\n",
    "\"\"\"\n",
    "human = \"{question}\"\n",
    "prompt = ChatPromptTemplate.from_messages([(\"system\", system), (\"human\", human)])\n",
    "\n",
    "chain = prompt | chat\n",
    "\n",
    "chain.invoke({\"question\": \"How can I utilise an LLM?\"})"
   ]
  },
  {
   "cell_type": "code",
   "execution_count": 7,
   "id": "8143fb24-4bc9-4d7a-a468-cbdf676b9f7a",
   "metadata": {},
   "outputs": [
    {
     "data": {
      "text/plain": [
       "Joke(setup='Why is Iceland green and Greenland white', punchline=\"but it's a funny question\", awesome='Iceland is not actually green', rating=8)"
      ]
     },
     "execution_count": 7,
     "metadata": {},
     "output_type": "execute_result"
    }
   ],
   "source": [
    "from typing import Optional\n",
    "from langchain_core.tools import tool\n",
    "from langchain_core.pydantic_v1 import BaseModel, Field\n",
    "\n",
    "\n",
    "class Joke(BaseModel):\n",
    "    \"\"\"facts to tell user.\"\"\"\n",
    "\n",
    "    setup: str = Field(description=\"The setup of the joke\")\n",
    "    punchline: str = Field(description=\"The punchline to the joke\")\n",
    "    awesome: str = Field(description=\"Explaination of the joke\")\n",
    "    rating: Optional[int] = Field(description=\"How funny the joke is, from 1 to 10\")\n",
    "\n",
    "\n",
    "structured_llm = chat.with_structured_output(Joke)\n",
    "\n",
    "structured_llm.invoke(\"why is iceland green and green land white?\")"
   ]
  },
  {
   "cell_type": "code",
   "execution_count": null,
   "id": "0113621d-3b0e-4ed0-9c42-85be556c8a95",
   "metadata": {},
   "outputs": [],
   "source": [
    "chat = ChatGroq(temperature=0, model=\"llama3-70b-8192\")\n",
    "prompt = ChatPromptTemplate.from_messages([(\"human\", \"Write a haiku about {topic}\")])\n",
    "chain = prompt | chat\n",
    "for chunk in chain.stream({\"topic\": \"The Moon\"}):\n",
    "    print(chunk.content, end=\"\", flush=True)"
   ]
  },
  {
   "cell_type": "code",
   "execution_count": null,
   "id": "b0724134-aa50-4b61-be55-e239d6a587f8",
   "metadata": {},
   "outputs": [],
   "source": []
  }
 ],
 "metadata": {
  "kernelspec": {
   "display_name": "Python 3 (ipykernel)",
   "language": "python",
   "name": "python3"
  },
  "language_info": {
   "codemirror_mode": {
    "name": "ipython",
    "version": 3
   },
   "file_extension": ".py",
   "mimetype": "text/x-python",
   "name": "python",
   "nbconvert_exporter": "python",
   "pygments_lexer": "ipython3",
   "version": "3.10.14"
  }
 },
 "nbformat": 4,
 "nbformat_minor": 5
}
