{
 "cells": [
  {
   "cell_type": "code",
   "execution_count": 2,
   "id": "58dbce0c",
   "metadata": {},
   "outputs": [
    {
     "name": "stdout",
     "output_type": "stream",
     "text": [
      "Requirement already satisfied: groq in /home/sudip/miniconda3/envs/gdg/lib/python3.10/site-packages (0.9.0)\n",
      "Requirement already satisfied: anyio<5,>=3.5.0 in /home/sudip/miniconda3/envs/gdg/lib/python3.10/site-packages (from groq) (4.2.0)\n",
      "Requirement already satisfied: distro<2,>=1.7.0 in /home/sudip/miniconda3/envs/gdg/lib/python3.10/site-packages (from groq) (1.9.0)\n",
      "Requirement already satisfied: httpx<1,>=0.23.0 in /home/sudip/miniconda3/envs/gdg/lib/python3.10/site-packages (from groq) (0.27.0)\n",
      "Requirement already satisfied: pydantic<3,>=1.9.0 in /home/sudip/miniconda3/envs/gdg/lib/python3.10/site-packages (from groq) (2.5.3)\n",
      "Requirement already satisfied: sniffio in /home/sudip/miniconda3/envs/gdg/lib/python3.10/site-packages (from groq) (1.3.0)\n",
      "Requirement already satisfied: typing-extensions<5,>=4.7 in /home/sudip/miniconda3/envs/gdg/lib/python3.10/site-packages (from groq) (4.11.0)\n",
      "Requirement already satisfied: idna>=2.8 in /home/sudip/miniconda3/envs/gdg/lib/python3.10/site-packages (from anyio<5,>=3.5.0->groq) (3.7)\n",
      "Requirement already satisfied: exceptiongroup>=1.0.2 in /home/sudip/miniconda3/envs/gdg/lib/python3.10/site-packages (from anyio<5,>=3.5.0->groq) (1.2.0)\n",
      "Requirement already satisfied: certifi in /home/sudip/miniconda3/envs/gdg/lib/python3.10/site-packages (from httpx<1,>=0.23.0->groq) (2024.6.2)\n",
      "Requirement already satisfied: httpcore==1.* in /home/sudip/miniconda3/envs/gdg/lib/python3.10/site-packages (from httpx<1,>=0.23.0->groq) (1.0.5)\n",
      "Requirement already satisfied: h11<0.15,>=0.13 in /home/sudip/miniconda3/envs/gdg/lib/python3.10/site-packages (from httpcore==1.*->httpx<1,>=0.23.0->groq) (0.14.0)\n",
      "Requirement already satisfied: annotated-types>=0.4.0 in /home/sudip/miniconda3/envs/gdg/lib/python3.10/site-packages (from pydantic<3,>=1.9.0->groq) (0.6.0)\n",
      "Requirement already satisfied: pydantic-core==2.14.6 in /home/sudip/miniconda3/envs/gdg/lib/python3.10/site-packages (from pydantic<3,>=1.9.0->groq) (2.14.6)\n",
      "Requirement already satisfied: python-dotenv in /home/sudip/miniconda3/envs/gdg/lib/python3.10/site-packages (1.0.1)\n"
     ]
    }
   ],
   "source": [
    "#Install necessary libraries\n",
    "!pip install groq\n",
    "!pip install python-dotenv\n",
    "!pip install -qU langchain-groq"
   ]
  },
  {
   "cell_type": "code",
   "execution_count": 3,
   "id": "8ea16a8f",
   "metadata": {},
   "outputs": [
    {
     "data": {
      "text/plain": [
       "True"
      ]
     },
     "execution_count": 3,
     "metadata": {},
     "output_type": "execute_result"
    }
   ],
   "source": [
    "import os\n",
    "from dotenv import load_dotenv\n",
    "# Load environment variables from .env file\n",
    "load_dotenv()"
   ]
  },
  {
   "cell_type": "code",
   "execution_count": 4,
   "id": "71902525-9e4f-4fca-93d2-e831cf7a73a3",
   "metadata": {},
   "outputs": [
    {
     "data": {
      "text/plain": [
       "True"
      ]
     },
     "execution_count": 4,
     "metadata": {},
     "output_type": "execute_result"
    }
   ],
   "source": [
    "import os\n",
    "from dotenv import load_dotenv\n",
    "# Load environment variables from .env file\n",
    "load_dotenv()"
   ]
  },
  {
   "cell_type": "markdown",
   "id": "cd197b4d-2804-4c38-9e28-07d77101f56c",
   "metadata": {},
   "source": [
    "## Langchain with groq"
   ]
  },
  {
   "cell_type": "code",
   "execution_count": 5,
   "id": "1d9b9c09-f638-45b8-9eb3-078410020508",
   "metadata": {},
   "outputs": [
    {
     "data": {
      "text/plain": [
       "AIMessage(content='You can utilize a Large Language Model (LLM) by fine-tuning it on your specific task or dataset, then using it to generate text, answer questions, or complete tasks such as language translation, text summarization, or chatbots.', response_metadata={'token_usage': {'completion_tokens': 50, 'prompt_tokens': 37, 'total_tokens': 87, 'completion_time': 0.142857143, 'prompt_time': 0.010544582, 'queue_time': None, 'total_time': 0.153401725}, 'model_name': 'llama3-70b-8192', 'system_fingerprint': 'fp_87cbfbbc4d', 'finish_reason': 'stop', 'logprobs': None}, id='run-7a30696f-6450-4dd0-8b0d-1f8fa3074037-0', usage_metadata={'input_tokens': 37, 'output_tokens': 50, 'total_tokens': 87})"
      ]
     },
     "execution_count": 5,
     "metadata": {},
     "output_type": "execute_result"
    }
   ],
   "source": [
    "from langchain_core.prompts import ChatPromptTemplate\n",
    "from langchain_groq import ChatGroq\n",
    "\n",
    "\n",
    "\n",
    "chat = ChatGroq(\n",
    "    model=\"llama3-70b-8192\", temperature=0.5\n",
    ")\n",
    "\n",
    "system = \"\"\"\n",
    "You are a helpful assistant that always provides a single sentence as answer.\n",
    "\"\"\"\n",
    "human = \"{question}\"\n",
    "prompt = ChatPromptTemplate.from_messages([(\"system\", system), (\"human\", human)])\n",
    "\n",
    "chain = prompt | chat\n",
    "\n",
    "chain.invoke({\"question\": \"How can I utilise an LLM?\"})"
   ]
  },
  {
   "cell_type": "markdown",
   "id": "0fb36979",
   "metadata": {},
   "source": [
    "## Asking LLM to provide output in a fixed format"
   ]
  },
  {
   "cell_type": "code",
   "execution_count": 6,
   "id": "8143fb24-4bc9-4d7a-a468-cbdf676b9f7a",
   "metadata": {},
   "outputs": [
    {
     "data": {
      "text/plain": [
       "Joke(setup='Why is Iceland green and Greenland white?', punchline=\"It's a joke, folks!\", awesome='Iceland is green because of its lush vegetation and green land is white because of its snow and ice!', rating=8)"
      ]
     },
     "execution_count": 6,
     "metadata": {},
     "output_type": "execute_result"
    }
   ],
   "source": [
    "from typing import Optional\n",
    "from langchain_core.tools import tool\n",
    "from langchain_core.pydantic_v1 import BaseModel, Field\n",
    "\n",
    "\n",
    "class Joke(BaseModel):\n",
    "    \"\"\"facts to tell user.\"\"\"\n",
    "\n",
    "    setup: str = Field(description=\"The setup of the joke\")\n",
    "    punchline: str = Field(description=\"The punchline to the joke\")\n",
    "    awesome: str = Field(description=\"Explaination of the joke\")\n",
    "    rating: Optional[int] = Field(description=\"How funny the joke is, from 1 to 10\")\n",
    "\n",
    "\n",
    "structured_llm = chat.with_structured_output(Joke)\n",
    "\n",
    "structured_llm.invoke(\"why is iceland green and green land white?\")"
   ]
  },
  {
   "cell_type": "markdown",
   "id": "d7f644e6",
   "metadata": {},
   "source": [
    "## Real time streaming"
   ]
  },
  {
   "cell_type": "code",
   "execution_count": 7,
   "id": "0113621d-3b0e-4ed0-9c42-85be556c8a95",
   "metadata": {},
   "outputs": [
    {
     "name": "stdout",
     "output_type": "stream",
     "text": [
      "Silvery glow bright\n",
      "Luna's gentle light shines down\n",
      "Midnight's peaceful hush"
     ]
    }
   ],
   "source": [
    "chat = ChatGroq(temperature=0, model=\"llama3-70b-8192\")\n",
    "prompt = ChatPromptTemplate.from_messages([(\"human\", \"Write a haiku about {topic}\")])\n",
    "chain = prompt | chat\n",
    "for chunk in chain.stream({\"topic\": \"The Moon\"}):\n",
    "    print(chunk.content, end=\"\", flush=True)"
   ]
  }
 ],
 "metadata": {
  "kernelspec": {
   "display_name": "Python 3 (ipykernel)",
   "language": "python",
   "name": "python3"
  },
  "language_info": {
   "codemirror_mode": {
    "name": "ipython",
    "version": 3
   },
   "file_extension": ".py",
   "mimetype": "text/x-python",
   "name": "python",
   "nbconvert_exporter": "python",
   "pygments_lexer": "ipython3",
   "version": "3.10.14"
  }
 },
 "nbformat": 4,
 "nbformat_minor": 5
}
